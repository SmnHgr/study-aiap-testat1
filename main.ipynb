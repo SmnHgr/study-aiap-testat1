{
 "cells": [
  {
   "cell_type": "markdown",
   "source": [
    "AiAp - Mini project 1\n",
    "# Lego CNN\n",
    "Simon Hager\n",
    "Kevin Löffler"
   ],
   "metadata": {
    "collapsed": false,
    "pycharm": {
     "name": "#%% md\n"
    }
   }
  },
  {
   "cell_type": "code",
   "execution_count": 5,
   "outputs": [],
   "source": [
    "import tensorflow as tf\n",
    "import numpy as np\n",
    "import matplotlib.pyplot as plt"
   ],
   "metadata": {
    "collapsed": false,
    "pycharm": {
     "name": "#%%\n"
    }
   }
  },
  {
   "cell_type": "markdown",
   "source": [
    "Step 1\n",
    "## Import Data\n",
    "Our dataset consists of 3D modeled lego bricks that are rendered as 400x400 greyscale png images. There are 50 different bricks and each brick is rendered in 800 angels giving us a total of 40'000 images. According to the project specification we reduced the dataset to 20 classes (bricks) resulting in 16'000 images.\n",
    "\n",
    "### Classes (Original Data)\n",
    "1. Brick Corner 1x2x2\n",
    "2. Plate Corner 2x2\n",
    "3. Peg with friction\n",
    "4. Brick 2x4\n",
    "5. Brick 2x3\n",
    "6. Brick 2x2\n",
    "7. Brick 1x2\n",
    "8. Brick 1x1\n",
    "9. Brick 1x4\n",
    "10. Plate 2x4\n",
    "11. Plate 2x3\n",
    "12. Plate 2x2\n",
    "13. Plate 1x2\n",
    "14. Plate 1x1\n",
    "15. Roof Tile 1x4\n",
    "16. Roof Tile 2x3\n",
    "17. Roof Tile 2x2\n",
    "18. Roof Tile 1x2\n",
    "19. Roof Tile Corner 2x2\n",
    "20. Roof Corner Inside Tile 2x2\n",
    "21. Round Brick 1x1\n",
    "22. Curved Brick 2 Knobs\n",
    "23. Flat Tile 2x2\n",
    "24. Flat Tile 1x2\n",
    "25. Flat Tile 1x1\n",
    "26. Roof Tile 2x3\n",
    "27. Brick 1x3\n",
    "28. Plate 1x3\n",
    "29. Brick Bow 1x4\n",
    "30. Roof Tile Outside 3x3\n",
    "31. Technic Brick 1x2\n",
    "32. Plate 1x2 with Knob\n",
    "33. Flat Tile Round 2x2\n",
    "34. Connector Peg\n",
    "35. Roof Tile 1x3\n",
    "36. Brick Bow 1x3\n",
    "37. Brick D16 Cross\n",
    "38. Lever 3M\n",
    "39. Flat Tile Corner 2x2\n",
    "40. Roof Tile 1x2\n",
    "41. Beam 1M\n",
    "42. Flat Tile Round 2x2\n",
    "43. Plate 2 Knobs 2x2\n",
    "44. Lever 2M\n",
    "45. Cross Blocks 2x2\n",
    "46. Bush 2M Friction Cross Axle\n",
    "47. Beam 1x2\n",
    "48. Roof Tile 1x1\n",
    "49. Roof Tile 1x2\n",
    "50. Roof Tile Inside 3x3\n",
    "\n",
    "### Classes\n",
    "1. Brick Corner\n",
    "2. Plate Corner\n",
    "3. Peg\n",
    "4. Brick 2x4\n",
    "5. Brick 2x3\n",
    "6. Brick 2x2\n",
    "7. Brick 1x2\n",
    "8. Brick 1x1\n",
    "9. Brick 1x4\n",
    "10. Plate 2x4\n",
    "11. Plate 2x3\n",
    "12. Plate 2x2\n",
    "13. Plate 1x2\n",
    "14. Plate 1x1\n",
    "15. Roof 2x4\n",
    "16. Roof 2x3\n",
    "17. Roof 2x2\n",
    "18. Roof 2x1\n",
    "19. Roof Corner 2x2\n",
    "20. Flat 1x1\n"
   ],
   "metadata": {
    "collapsed": false,
    "pycharm": {
     "name": "#%% md\n"
    }
   }
  },
  {
   "cell_type": "code",
   "execution_count": 15,
   "outputs": [
    {
     "name": "stdout",
     "output_type": "stream",
     "text": [
      "Found 16000 files belonging to 20 classes.\n",
      "Using 12800 files for training.\n"
     ]
    }
   ],
   "source": [
    "dataset = tf.keras.preprocessing.image_dataset_from_directory(\n",
    "    'lego-bricks/dataset-reduced',\n",
    "    labels = 'inferred',\n",
    "    label_mode = 'int',\n",
    "    color_mode = 'grayscale',\n",
    "    batch_size = 32,\n",
    "    image_size = (400, 400),\n",
    "    shuffle = True,\n",
    "    seed = 7,\n",
    "    validation_split = 0.2,\n",
    "    subset = 'training',  # What does this do?\n",
    ")"
   ],
   "metadata": {
    "collapsed": false,
    "pycharm": {
     "name": "#%%\n"
    }
   }
  },
  {
   "cell_type": "code",
   "execution_count": 26,
   "outputs": [
    {
     "data": {
      "text/plain": "<tf.Tensor: shape=(), dtype=int64, numpy=400>"
     },
     "execution_count": 26,
     "metadata": {},
     "output_type": "execute_result"
    }
   ],
   "source": [
    "dataset.cardinality()"
   ],
   "metadata": {
    "collapsed": false,
    "pycharm": {
     "name": "#%%\n"
    }
   }
  },
  {
   "cell_type": "code",
   "execution_count": 29,
   "outputs": [],
   "source": [],
   "metadata": {
    "collapsed": false,
    "pycharm": {
     "name": "#%%"
    }
   }
  }
 ],
 "metadata": {
  "kernelspec": {
   "display_name": "Python 3",
   "language": "python",
   "name": "python3"
  },
  "language_info": {
   "codemirror_mode": {
    "name": "ipython",
    "version": 2
   },
   "file_extension": ".py",
   "mimetype": "text/x-python",
   "name": "python",
   "nbconvert_exporter": "python",
   "pygments_lexer": "ipython2",
   "version": "2.7.6"
  }
 },
 "nbformat": 4,
 "nbformat_minor": 0
}